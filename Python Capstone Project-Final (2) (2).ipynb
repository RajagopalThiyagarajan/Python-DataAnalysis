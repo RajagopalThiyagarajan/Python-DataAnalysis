{
 "cells": [
  {
   "cell_type": "markdown",
   "id": "cbd66d58",
   "metadata": {},
   "source": [
    "## Assesment 1)"
   ]
  },
  {
   "cell_type": "markdown",
   "id": "4b8572d5",
   "metadata": {},
   "source": [
    "## Importing Pandas and Numpy"
   ]
  },
  {
   "cell_type": "code",
   "execution_count": 1,
   "id": "d47b09df",
   "metadata": {},
   "outputs": [],
   "source": [
    "import pandas as pd\n",
    "import numpy as np"
   ]
  },
  {
   "cell_type": "markdown",
   "id": "15cabae4",
   "metadata": {},
   "source": [
    "## Loading the Dataset"
   ]
  },
  {
   "cell_type": "code",
   "execution_count": 2,
   "id": "abef8e7b",
   "metadata": {},
   "outputs": [
    {
     "name": "stdout",
     "output_type": "stream",
     "text": [
      "    Unnamed: 0  Sachin Tendulkar  Rahul Dravid  India\n",
      "0            0               100            78    342\n",
      "1            1                11            62    191\n",
      "2            2                 8            85    252\n",
      "3            3                71            24    307\n",
      "4            4               104            17    229\n",
      "5            5                18           104    246\n",
      "6            6                 8            76    226\n",
      "7            7                86            74    288\n",
      "8            8                12            60    216\n",
      "9            9                85            12    224\n",
      "10          10                18            63    161\n",
      "11          11                 4           107    276\n",
      "12          12                 7            76    283\n",
      "13          13                37             4    297\n",
      "14          14                14             5    139\n",
      "15          15                 0            33    224\n",
      "16          16                 4             7    178\n",
      "17          17                 0             0      0\n",
      "18          18                21            36    193\n",
      "19          19                 1            66    231\n"
     ]
    }
   ],
   "source": [
    "df=pd.read_csv('cric_data.tsv', delimiter='\\t')\n",
    "print(df.head(20))\n"
   ]
  },
  {
   "cell_type": "markdown",
   "id": "907b652e",
   "metadata": {},
   "source": [
    "## performing basic statistical functions\n",
    "## Finding Mean Scores by Sachin,Rahul and Indian Players\n",
    "## Finding Maximum Scores recorded by Sachin and Rahul"
   ]
  },
  {
   "cell_type": "code",
   "execution_count": 3,
   "id": "c414d22e",
   "metadata": {},
   "outputs": [
    {
     "name": "stdout",
     "output_type": "stream",
     "text": [
      "Mean score by Sachin Tendulkar:  112.0\n",
      "Mean score by Rahul Dravid:  39.87555555555556\n",
      "Mean score by India:  32.062222222222225\n",
      "Maximum score by Sachin:  224.0\n",
      "Maximum score by Rahul:  186.0\n"
     ]
    }
   ],
   "source": [
    "data = np.genfromtxt('cric_data.tsv', delimiter='\\t', skip_header=1, filling_values=np.nan)\n",
    "sachin_scores = data[:, 0]\n",
    "dravid_scores = data[:, 1]\n",
    "india_scores = data[:, 2]\n",
    "sachin_mean = np.mean(sachin_scores)\n",
    "dravid_mean = np.mean(dravid_scores)\n",
    "india_mean = np.mean(india_scores)\n",
    "print(\"Mean score by Sachin Tendulkar: \", sachin_mean)\n",
    "print(\"Mean score by Rahul Dravid: \", dravid_mean)\n",
    "print(\"Mean score by India: \", india_mean)\n",
    "sachin_max = np.max(sachin_scores)\n",
    "rahul_max = np.max(dravid_scores)\n",
    "print(\"Maximum score by Sachin: \", sachin_max)\n",
    "print(\"Maximum score by Rahul: \", rahul_max)"
   ]
  },
  {
   "cell_type": "markdown",
   "id": "f208a301",
   "metadata": {},
   "source": [
    "##  Various ways of Numpy Array Creation"
   ]
  },
  {
   "cell_type": "code",
   "execution_count": 4,
   "id": "1f1d499a",
   "metadata": {},
   "outputs": [
    {
     "name": "stdout",
     "output_type": "stream",
     "text": [
      "[1 2 3 4 5]\n",
      "<class 'numpy.ndarray'>\n",
      "[1 2 3 4 5]\n",
      "18\n",
      "[[1 2 3]\n",
      " [4 5 6]]\n",
      "[1 2 3 4 5]\n",
      "[[[1 2 3]\n",
      "  [4 5 6]]\n",
      "\n",
      " [[1 2 3]\n",
      "  [4 5 6]]]\n"
     ]
    }
   ],
   "source": [
    "arr = np.array([1, 2, 3, 4, 5])\n",
    "\n",
    "print(arr)\n",
    "\n",
    "print(type(arr))\n",
    "\n",
    "\n",
    "arr = np.array((1, 2, 3, 4, 5))\n",
    "\n",
    "print(arr)\n",
    "\n",
    "arr = np.array(18)\n",
    "\n",
    "print(arr)\n",
    "\n",
    "arr = np.array([[1, 2, 3], [4, 5, 6]])\n",
    "\n",
    "print(arr)\n",
    "\n",
    "\n",
    "arr = np.array([1, 2, 3, 4, 5])\n",
    "\n",
    "print(arr)\n",
    "\n",
    "\n",
    "arr = np.array([[[1, 2, 3], [4, 5, 6]], [[1, 2, 3], [4, 5, 6]]])\n",
    "\n",
    "print(arr)"
   ]
  },
  {
   "cell_type": "markdown",
   "id": "04c37e46",
   "metadata": {},
   "source": [
    "## Assessment 2"
   ]
  },
  {
   "cell_type": "markdown",
   "id": "af1f1133",
   "metadata": {},
   "source": [
    "## Compare and Contast Lists and Arrays"
   ]
  },
  {
   "cell_type": "code",
   "execution_count": 5,
   "id": "3cd6d1a0",
   "metadata": {},
   "outputs": [
    {
     "name": "stdout",
     "output_type": "stream",
     "text": [
      "1\n",
      "1\n",
      "[2, 3]\n",
      "[2 3]\n",
      "5\n",
      "5\n",
      "<class 'int'>\n",
      "<class 'numpy.int32'>\n"
     ]
    }
   ],
   "source": [
    "import numpy as np\n",
    "my_list = [1, 2, 3, 4, 5]\n",
    "\n",
    "# creating an array\n",
    "my_array = np.array([1, 2, 3, 4, 5])\n",
    "\n",
    "# accessing elements\n",
    "print(my_list[0])     \n",
    "print(my_array[0])    \n",
    "# slicing\n",
    "print(my_list[1:3])   \n",
    "print(my_array[1:3])  \n",
    "\n",
    "# concatenation\n",
    "new_list = my_list + [6, 7, 8]\n",
    "new_array = np.concatenate((my_array, [6, 7, 8]))\n",
    "\n",
    "# appending\n",
    "my_list.append(6)\n",
    "my_array = np.append(my_array, 6)\n",
    "\n",
    "# removing elements\n",
    "my_list.remove(3)\n",
    "my_array = np.delete(my_array, 2)\n",
    "\n",
    "# size\n",
    "print(len(my_list))    \n",
    "print(my_array.size)   \n",
    "\n",
    "# data type\n",
    "print(type(my_list[0]))        \n",
    "print(type(my_array[0]))       \n",
    "\n",
    "# arithmetic operations\n",
    "new_list = [x + 1 for x in my_list]\n",
    "new_array = my_array + 1\n"
   ]
  },
  {
   "cell_type": "markdown",
   "id": "66cebbe0",
   "metadata": {},
   "source": [
    "## Show the benefits of using arrays over lists evidentially."
   ]
  },
  {
   "cell_type": "code",
   "execution_count": 6,
   "id": "baf3718f",
   "metadata": {},
   "outputs": [
    {
     "name": "stdout",
     "output_type": "stream",
     "text": [
      "Memory used by the list: 28000 bytes\n",
      "Memory used by the array: 4000 bytes\n",
      "[[19 22]\n",
      " [43 50]]\n"
     ]
    }
   ],
   "source": [
    "import sys\n",
    "import numpy as np\n",
    "\n",
    "# create a list of 1000 elements\n",
    "my_list = range(1000)\n",
    "\n",
    "# create an array of 1000 elements\n",
    "my_array = np.arange(1000)\n",
    "\n",
    "# calculate the memory used by the list\n",
    "list_size = sys.getsizeof(1) * len(my_list)\n",
    "print(\"Memory used by the list:\", list_size, \"bytes\")\n",
    "\n",
    "# calculate the memory used by the array\n",
    "array_size = my_array.nbytes\n",
    "print(\"Memory used by the array:\", array_size, \"bytes\")\n",
    "\n",
    "import numpy as np\n",
    "\n",
    "# create two arrays\n",
    "A = np.array([[1, 2], [3, 4]])\n",
    "B = np.array([[5, 6], [7, 8]])\n",
    "\n",
    "# matrix multiplication using arrays\n",
    "C = np.dot(A, B)\n",
    "print(C)\n"
   ]
  },
  {
   "cell_type": "markdown",
   "id": "baabb067",
   "metadata": {},
   "source": [
    "## Define Dictionary with Employee data and use the same in Data Frame creation."
   ]
  },
  {
   "cell_type": "code",
   "execution_count": 7,
   "id": "1023d29b",
   "metadata": {},
   "outputs": [
    {
     "name": "stdout",
     "output_type": "stream",
     "text": [
      "       Name  Age  Salary\n",
      "0      Raja   25   50000\n",
      "1    Adrein   30   60000\n",
      "2   Nikitha   35   70000\n",
      "3    Akalya   26   65000\n",
      "4  Virushka   31   38000\n",
      "5    Vamika   24   66000\n"
     ]
    }
   ],
   "source": [
    "import pandas as pd\n",
    "\n",
    "employee_data = {'Name': ['Raja', 'Adrein', 'Nikitha','Akalya','Virushka','Vamika'],\n",
    "                 'Age': [25, 30, 35,26,31,24],\n",
    "                 'Salary': [50000, 60000, 70000,65000,38000,66000]}\n",
    "\n",
    "df = pd.DataFrame(employee_data)\n",
    "\n",
    "\n",
    "print(df)\n"
   ]
  },
  {
   "cell_type": "markdown",
   "id": "cb475e10",
   "metadata": {},
   "source": [
    "## Define a class with constructor, method process with objects."
   ]
  },
  {
   "cell_type": "code",
   "execution_count": 8,
   "id": "2b746e06",
   "metadata": {},
   "outputs": [
    {
     "name": "stdout",
     "output_type": "stream",
     "text": [
      "5\n",
      "12\n"
     ]
    }
   ],
   "source": [
    "class MyClass:\n",
    "    def __init__(self, x, y):\n",
    "        self.x = x\n",
    "        self.y = y\n",
    "    \n",
    "    def process(self):\n",
    "        return self.x + self.y\n",
    "\n",
    "# Creating objects of MyClass\n",
    "obj1 = MyClass(2, 3)\n",
    "obj2 = MyClass(5, 7)\n",
    "\n",
    "# Calling the process method on objects\n",
    "result1 = obj1.process()\n",
    "result2 = obj2.process()\n",
    "\n",
    "print(result1)  # Output: 5\n",
    "print(result2)  # Output: 12\n"
   ]
  },
  {
   "cell_type": "markdown",
   "id": "24c903ea",
   "metadata": {},
   "source": [
    "##  In this example, we defined a class MyClass with a constructor that initializes two instance variables x and y. We also defined a method process which adds the values of x and y and returns the result. We then created two objects obj1 and obj2 of MyClass and called the process method on these objects to get the result."
   ]
  },
  {
   "cell_type": "markdown",
   "id": "e3979ddb",
   "metadata": {},
   "source": [
    "## List Comprehension in Python"
   ]
  },
  {
   "cell_type": "code",
   "execution_count": 9,
   "id": "015075cb",
   "metadata": {},
   "outputs": [
    {
     "name": "stdout",
     "output_type": "stream",
     "text": [
      "[1, 4, 9, 16, 25, 36, 49, 64, 81, 100]\n"
     ]
    }
   ],
   "source": [
    "# Create a list of squares of numbers from 1 to 10 using list comprehension\n",
    "squares = [x**2 for x in range(1, 11)]\n",
    "print(squares)"
   ]
  },
  {
   "cell_type": "markdown",
   "id": "030940fc",
   "metadata": {},
   "source": [
    "## Dictionary Comprehension in Python"
   ]
  },
  {
   "cell_type": "code",
   "execution_count": 10,
   "id": "93264ab3",
   "metadata": {},
   "outputs": [
    {
     "name": "stdout",
     "output_type": "stream",
     "text": [
      "{1: 1, 2: 4, 3: 9, 4: 16, 5: 25, 6: 36, 7: 49, 8: 64, 9: 81, 10: 100}\n"
     ]
    }
   ],
   "source": [
    "# Create a dictionary of squares of numbers from 1 to 10 using dictionary comprehension\n",
    "squares_dict = {x: x**2 for x in range(1, 11)}\n",
    "print(squares_dict)"
   ]
  },
  {
   "cell_type": "markdown",
   "id": "796bc003",
   "metadata": {},
   "source": [
    "# Assesment 3"
   ]
  },
  {
   "cell_type": "code",
   "execution_count": 11,
   "id": "6105235a",
   "metadata": {},
   "outputs": [],
   "source": [
    "import pandas as pd\n",
    "import seaborn as sns\n",
    "import numpy as np"
   ]
  },
  {
   "cell_type": "markdown",
   "id": "5475e36e",
   "metadata": {},
   "source": [
    "## Loading the dataset"
   ]
  },
  {
   "cell_type": "code",
   "execution_count": 12,
   "id": "458a0efb",
   "metadata": {},
   "outputs": [
    {
     "name": "stdout",
     "output_type": "stream",
     "text": [
      "            method  number  orbital_period   mass  distance  year\n",
      "0  Radial Velocity       1         269.300   7.10     77.40  2006\n",
      "1  Radial Velocity       1         874.774   2.21     56.95  2008\n",
      "2  Radial Velocity       1         763.000   2.60     19.84  2011\n",
      "3  Radial Velocity       1         326.030  19.40    110.62  2007\n",
      "4  Radial Velocity       1         516.220  10.50    119.47  2009\n"
     ]
    }
   ],
   "source": [
    "planets_df = sns.load_dataset('planets')\n",
    "\n",
    "print(planets_df.head())"
   ]
  },
  {
   "cell_type": "markdown",
   "id": "ddfea072",
   "metadata": {},
   "source": [
    "## Performing info() and describe() operations"
   ]
  },
  {
   "cell_type": "code",
   "execution_count": 13,
   "id": "fe1c1bd2",
   "metadata": {},
   "outputs": [
    {
     "name": "stdout",
     "output_type": "stream",
     "text": [
      "<class 'pandas.core.frame.DataFrame'>\n",
      "RangeIndex: 1035 entries, 0 to 1034\n",
      "Data columns (total 6 columns):\n",
      " #   Column          Non-Null Count  Dtype  \n",
      "---  ------          --------------  -----  \n",
      " 0   method          1035 non-null   object \n",
      " 1   number          1035 non-null   int64  \n",
      " 2   orbital_period  992 non-null    float64\n",
      " 3   mass            513 non-null    float64\n",
      " 4   distance        808 non-null    float64\n",
      " 5   year            1035 non-null   int64  \n",
      "dtypes: float64(3), int64(2), object(1)\n",
      "memory usage: 48.6+ KB\n"
     ]
    },
    {
     "data": {
      "text/html": [
       "<div>\n",
       "<style scoped>\n",
       "    .dataframe tbody tr th:only-of-type {\n",
       "        vertical-align: middle;\n",
       "    }\n",
       "\n",
       "    .dataframe tbody tr th {\n",
       "        vertical-align: top;\n",
       "    }\n",
       "\n",
       "    .dataframe thead th {\n",
       "        text-align: right;\n",
       "    }\n",
       "</style>\n",
       "<table border=\"1\" class=\"dataframe\">\n",
       "  <thead>\n",
       "    <tr style=\"text-align: right;\">\n",
       "      <th></th>\n",
       "      <th>number</th>\n",
       "      <th>orbital_period</th>\n",
       "      <th>mass</th>\n",
       "      <th>distance</th>\n",
       "      <th>year</th>\n",
       "    </tr>\n",
       "  </thead>\n",
       "  <tbody>\n",
       "    <tr>\n",
       "      <th>count</th>\n",
       "      <td>1035.000000</td>\n",
       "      <td>992.000000</td>\n",
       "      <td>513.000000</td>\n",
       "      <td>808.000000</td>\n",
       "      <td>1035.000000</td>\n",
       "    </tr>\n",
       "    <tr>\n",
       "      <th>mean</th>\n",
       "      <td>1.785507</td>\n",
       "      <td>2002.917596</td>\n",
       "      <td>2.638161</td>\n",
       "      <td>264.069282</td>\n",
       "      <td>2009.070531</td>\n",
       "    </tr>\n",
       "    <tr>\n",
       "      <th>std</th>\n",
       "      <td>1.240976</td>\n",
       "      <td>26014.728304</td>\n",
       "      <td>3.818617</td>\n",
       "      <td>733.116493</td>\n",
       "      <td>3.972567</td>\n",
       "    </tr>\n",
       "    <tr>\n",
       "      <th>min</th>\n",
       "      <td>1.000000</td>\n",
       "      <td>0.090706</td>\n",
       "      <td>0.003600</td>\n",
       "      <td>1.350000</td>\n",
       "      <td>1989.000000</td>\n",
       "    </tr>\n",
       "    <tr>\n",
       "      <th>25%</th>\n",
       "      <td>1.000000</td>\n",
       "      <td>5.442540</td>\n",
       "      <td>0.229000</td>\n",
       "      <td>32.560000</td>\n",
       "      <td>2007.000000</td>\n",
       "    </tr>\n",
       "    <tr>\n",
       "      <th>50%</th>\n",
       "      <td>1.000000</td>\n",
       "      <td>39.979500</td>\n",
       "      <td>1.260000</td>\n",
       "      <td>55.250000</td>\n",
       "      <td>2010.000000</td>\n",
       "    </tr>\n",
       "    <tr>\n",
       "      <th>75%</th>\n",
       "      <td>2.000000</td>\n",
       "      <td>526.005000</td>\n",
       "      <td>3.040000</td>\n",
       "      <td>178.500000</td>\n",
       "      <td>2012.000000</td>\n",
       "    </tr>\n",
       "    <tr>\n",
       "      <th>max</th>\n",
       "      <td>7.000000</td>\n",
       "      <td>730000.000000</td>\n",
       "      <td>25.000000</td>\n",
       "      <td>8500.000000</td>\n",
       "      <td>2014.000000</td>\n",
       "    </tr>\n",
       "  </tbody>\n",
       "</table>\n",
       "</div>"
      ],
      "text/plain": [
       "            number  orbital_period        mass     distance         year\n",
       "count  1035.000000      992.000000  513.000000   808.000000  1035.000000\n",
       "mean      1.785507     2002.917596    2.638161   264.069282  2009.070531\n",
       "std       1.240976    26014.728304    3.818617   733.116493     3.972567\n",
       "min       1.000000        0.090706    0.003600     1.350000  1989.000000\n",
       "25%       1.000000        5.442540    0.229000    32.560000  2007.000000\n",
       "50%       1.000000       39.979500    1.260000    55.250000  2010.000000\n",
       "75%       2.000000      526.005000    3.040000   178.500000  2012.000000\n",
       "max       7.000000   730000.000000   25.000000  8500.000000  2014.000000"
      ]
     },
     "execution_count": 13,
     "metadata": {},
     "output_type": "execute_result"
    }
   ],
   "source": [
    "planets_df.info()\n",
    "planets_df.describe()"
   ]
  },
  {
   "cell_type": "markdown",
   "id": "aaaa5f1d",
   "metadata": {},
   "source": [
    "## Adding a new row and column"
   ]
  },
  {
   "cell_type": "code",
   "execution_count": 26,
   "id": "7948be88",
   "metadata": {},
   "outputs": [
    {
     "name": "stderr",
     "output_type": "stream",
     "text": [
      "C:\\Users\\Rajagopal\\AppData\\Local\\Temp\\ipykernel_8292\\975853913.py:6: FutureWarning: The frame.append method is deprecated and will be removed from pandas in a future version. Use pandas.concat instead.\n",
      "  planets_df = planets_df.append(new_row, ignore_index=True)\n"
     ]
    },
    {
     "data": {
      "text/html": [
       "<div>\n",
       "<style scoped>\n",
       "    .dataframe tbody tr th:only-of-type {\n",
       "        vertical-align: middle;\n",
       "    }\n",
       "\n",
       "    .dataframe tbody tr th {\n",
       "        vertical-align: top;\n",
       "    }\n",
       "\n",
       "    .dataframe thead th {\n",
       "        text-align: right;\n",
       "    }\n",
       "</style>\n",
       "<table border=\"1\" class=\"dataframe\">\n",
       "  <thead>\n",
       "    <tr style=\"text-align: right;\">\n",
       "      <th></th>\n",
       "      <th>method</th>\n",
       "      <th>number</th>\n",
       "      <th>orbital_period</th>\n",
       "      <th>mass</th>\n",
       "      <th>distance</th>\n",
       "      <th>year</th>\n",
       "      <th>distance_in_km</th>\n",
       "    </tr>\n",
       "  </thead>\n",
       "  <tbody>\n",
       "    <tr>\n",
       "      <th>0</th>\n",
       "      <td>Radial Velocity</td>\n",
       "      <td>1</td>\n",
       "      <td>269.300000</td>\n",
       "      <td>7.10</td>\n",
       "      <td>77.40</td>\n",
       "      <td>2006</td>\n",
       "      <td>0</td>\n",
       "    </tr>\n",
       "    <tr>\n",
       "      <th>1</th>\n",
       "      <td>Radial Velocity</td>\n",
       "      <td>1</td>\n",
       "      <td>874.774000</td>\n",
       "      <td>2.21</td>\n",
       "      <td>56.95</td>\n",
       "      <td>2008</td>\n",
       "      <td>1</td>\n",
       "    </tr>\n",
       "    <tr>\n",
       "      <th>2</th>\n",
       "      <td>Radial Velocity</td>\n",
       "      <td>1</td>\n",
       "      <td>763.000000</td>\n",
       "      <td>2.60</td>\n",
       "      <td>19.84</td>\n",
       "      <td>2011</td>\n",
       "      <td>2</td>\n",
       "    </tr>\n",
       "    <tr>\n",
       "      <th>3</th>\n",
       "      <td>Radial Velocity</td>\n",
       "      <td>1</td>\n",
       "      <td>326.030000</td>\n",
       "      <td>19.40</td>\n",
       "      <td>110.62</td>\n",
       "      <td>2007</td>\n",
       "      <td>3</td>\n",
       "    </tr>\n",
       "    <tr>\n",
       "      <th>4</th>\n",
       "      <td>Radial Velocity</td>\n",
       "      <td>1</td>\n",
       "      <td>516.220000</td>\n",
       "      <td>10.50</td>\n",
       "      <td>119.47</td>\n",
       "      <td>2009</td>\n",
       "      <td>4</td>\n",
       "    </tr>\n",
       "    <tr>\n",
       "      <th>...</th>\n",
       "      <td>...</td>\n",
       "      <td>...</td>\n",
       "      <td>...</td>\n",
       "      <td>...</td>\n",
       "      <td>...</td>\n",
       "      <td>...</td>\n",
       "      <td>...</td>\n",
       "    </tr>\n",
       "    <tr>\n",
       "      <th>1030</th>\n",
       "      <td>Transit</td>\n",
       "      <td>1</td>\n",
       "      <td>3.941507</td>\n",
       "      <td>NaN</td>\n",
       "      <td>172.00</td>\n",
       "      <td>2006</td>\n",
       "      <td>1030</td>\n",
       "    </tr>\n",
       "    <tr>\n",
       "      <th>1031</th>\n",
       "      <td>Transit</td>\n",
       "      <td>1</td>\n",
       "      <td>2.615864</td>\n",
       "      <td>NaN</td>\n",
       "      <td>148.00</td>\n",
       "      <td>2007</td>\n",
       "      <td>1031</td>\n",
       "    </tr>\n",
       "    <tr>\n",
       "      <th>1032</th>\n",
       "      <td>Transit</td>\n",
       "      <td>1</td>\n",
       "      <td>3.191524</td>\n",
       "      <td>NaN</td>\n",
       "      <td>174.00</td>\n",
       "      <td>2007</td>\n",
       "      <td>1032</td>\n",
       "    </tr>\n",
       "    <tr>\n",
       "      <th>1033</th>\n",
       "      <td>Transit</td>\n",
       "      <td>1</td>\n",
       "      <td>4.125083</td>\n",
       "      <td>NaN</td>\n",
       "      <td>293.00</td>\n",
       "      <td>2008</td>\n",
       "      <td>1033</td>\n",
       "    </tr>\n",
       "    <tr>\n",
       "      <th>1034</th>\n",
       "      <td>Transit</td>\n",
       "      <td>1</td>\n",
       "      <td>1.100000</td>\n",
       "      <td>1.20</td>\n",
       "      <td>1.30</td>\n",
       "      <td>2000</td>\n",
       "      <td>300000</td>\n",
       "    </tr>\n",
       "  </tbody>\n",
       "</table>\n",
       "<p>1035 rows × 7 columns</p>\n",
       "</div>"
      ],
      "text/plain": [
       "               method  number  orbital_period   mass  distance  year  \\\n",
       "0     Radial Velocity       1      269.300000   7.10     77.40  2006   \n",
       "1     Radial Velocity       1      874.774000   2.21     56.95  2008   \n",
       "2     Radial Velocity       1      763.000000   2.60     19.84  2011   \n",
       "3     Radial Velocity       1      326.030000  19.40    110.62  2007   \n",
       "4     Radial Velocity       1      516.220000  10.50    119.47  2009   \n",
       "...               ...     ...             ...    ...       ...   ...   \n",
       "1030          Transit       1        3.941507    NaN    172.00  2006   \n",
       "1031          Transit       1        2.615864    NaN    148.00  2007   \n",
       "1032          Transit       1        3.191524    NaN    174.00  2007   \n",
       "1033          Transit       1        4.125083    NaN    293.00  2008   \n",
       "1034          Transit       1        1.100000   1.20      1.30  2000   \n",
       "\n",
       "      distance_in_km  \n",
       "0                  0  \n",
       "1                  1  \n",
       "2                  2  \n",
       "3                  3  \n",
       "4                  4  \n",
       "...              ...  \n",
       "1030            1030  \n",
       "1031            1031  \n",
       "1032            1032  \n",
       "1033            1033  \n",
       "1034          300000  \n",
       "\n",
       "[1035 rows x 7 columns]"
      ]
     },
     "execution_count": 26,
     "metadata": {},
     "output_type": "execute_result"
    }
   ],
   "source": [
    "# Add a new column called \"distance_in_km\" with random values\n",
    "planets_df[\"distance_in_km\"] = [i for i in range(1034)]\n",
    "\n",
    "# Add a new row to the DataFrame\n",
    "new_row = {\"method\": \"Transit\", \"number\": 1, \"orbital_period\": 1.1, \"mass\": 1.2, \"distance\": 1.3, \"year\": 2000, \"distance_in_km\": 300000}\n",
    "planets_df = planets_df.append(new_row, ignore_index=True)\n",
    "planets_df"
   ]
  },
  {
   "cell_type": "code",
   "execution_count": null,
   "id": "ce566668",
   "metadata": {},
   "outputs": [],
   "source": [
    "planets_df"
   ]
  },
  {
   "cell_type": "markdown",
   "id": "bb873f06",
   "metadata": {},
   "source": [
    "## Drop rows"
   ]
  },
  {
   "cell_type": "code",
   "execution_count": 23,
   "id": "8f04d29e",
   "metadata": {},
   "outputs": [
    {
     "data": {
      "text/html": [
       "<div>\n",
       "<style scoped>\n",
       "    .dataframe tbody tr th:only-of-type {\n",
       "        vertical-align: middle;\n",
       "    }\n",
       "\n",
       "    .dataframe tbody tr th {\n",
       "        vertical-align: top;\n",
       "    }\n",
       "\n",
       "    .dataframe thead th {\n",
       "        text-align: right;\n",
       "    }\n",
       "</style>\n",
       "<table border=\"1\" class=\"dataframe\">\n",
       "  <thead>\n",
       "    <tr style=\"text-align: right;\">\n",
       "      <th></th>\n",
       "      <th>method</th>\n",
       "      <th>number</th>\n",
       "      <th>orbital_period</th>\n",
       "      <th>mass</th>\n",
       "      <th>distance</th>\n",
       "      <th>year</th>\n",
       "      <th>distance_in_km</th>\n",
       "    </tr>\n",
       "  </thead>\n",
       "  <tbody>\n",
       "    <tr>\n",
       "      <th>0</th>\n",
       "      <td>Radial Velocity</td>\n",
       "      <td>1</td>\n",
       "      <td>269.300000</td>\n",
       "      <td>7.10</td>\n",
       "      <td>77.40</td>\n",
       "      <td>2006</td>\n",
       "      <td>0</td>\n",
       "    </tr>\n",
       "    <tr>\n",
       "      <th>1</th>\n",
       "      <td>Radial Velocity</td>\n",
       "      <td>1</td>\n",
       "      <td>874.774000</td>\n",
       "      <td>2.21</td>\n",
       "      <td>56.95</td>\n",
       "      <td>2008</td>\n",
       "      <td>1</td>\n",
       "    </tr>\n",
       "    <tr>\n",
       "      <th>2</th>\n",
       "      <td>Radial Velocity</td>\n",
       "      <td>1</td>\n",
       "      <td>763.000000</td>\n",
       "      <td>2.60</td>\n",
       "      <td>19.84</td>\n",
       "      <td>2011</td>\n",
       "      <td>2</td>\n",
       "    </tr>\n",
       "    <tr>\n",
       "      <th>3</th>\n",
       "      <td>Radial Velocity</td>\n",
       "      <td>1</td>\n",
       "      <td>326.030000</td>\n",
       "      <td>19.40</td>\n",
       "      <td>110.62</td>\n",
       "      <td>2007</td>\n",
       "      <td>3</td>\n",
       "    </tr>\n",
       "    <tr>\n",
       "      <th>4</th>\n",
       "      <td>Radial Velocity</td>\n",
       "      <td>1</td>\n",
       "      <td>516.220000</td>\n",
       "      <td>10.50</td>\n",
       "      <td>119.47</td>\n",
       "      <td>2009</td>\n",
       "      <td>4</td>\n",
       "    </tr>\n",
       "    <tr>\n",
       "      <th>...</th>\n",
       "      <td>...</td>\n",
       "      <td>...</td>\n",
       "      <td>...</td>\n",
       "      <td>...</td>\n",
       "      <td>...</td>\n",
       "      <td>...</td>\n",
       "      <td>...</td>\n",
       "    </tr>\n",
       "    <tr>\n",
       "      <th>1029</th>\n",
       "      <td>Imaging</td>\n",
       "      <td>1</td>\n",
       "      <td>NaN</td>\n",
       "      <td>NaN</td>\n",
       "      <td>10.10</td>\n",
       "      <td>2012</td>\n",
       "      <td>1029</td>\n",
       "    </tr>\n",
       "    <tr>\n",
       "      <th>1030</th>\n",
       "      <td>Transit</td>\n",
       "      <td>1</td>\n",
       "      <td>3.941507</td>\n",
       "      <td>NaN</td>\n",
       "      <td>172.00</td>\n",
       "      <td>2006</td>\n",
       "      <td>1030</td>\n",
       "    </tr>\n",
       "    <tr>\n",
       "      <th>1031</th>\n",
       "      <td>Transit</td>\n",
       "      <td>1</td>\n",
       "      <td>2.615864</td>\n",
       "      <td>NaN</td>\n",
       "      <td>148.00</td>\n",
       "      <td>2007</td>\n",
       "      <td>1031</td>\n",
       "    </tr>\n",
       "    <tr>\n",
       "      <th>1032</th>\n",
       "      <td>Transit</td>\n",
       "      <td>1</td>\n",
       "      <td>3.191524</td>\n",
       "      <td>NaN</td>\n",
       "      <td>174.00</td>\n",
       "      <td>2007</td>\n",
       "      <td>1032</td>\n",
       "    </tr>\n",
       "    <tr>\n",
       "      <th>1033</th>\n",
       "      <td>Transit</td>\n",
       "      <td>1</td>\n",
       "      <td>4.125083</td>\n",
       "      <td>NaN</td>\n",
       "      <td>293.00</td>\n",
       "      <td>2008</td>\n",
       "      <td>1033</td>\n",
       "    </tr>\n",
       "  </tbody>\n",
       "</table>\n",
       "<p>1034 rows × 7 columns</p>\n",
       "</div>"
      ],
      "text/plain": [
       "               method  number  orbital_period   mass  distance  year  \\\n",
       "0     Radial Velocity       1      269.300000   7.10     77.40  2006   \n",
       "1     Radial Velocity       1      874.774000   2.21     56.95  2008   \n",
       "2     Radial Velocity       1      763.000000   2.60     19.84  2011   \n",
       "3     Radial Velocity       1      326.030000  19.40    110.62  2007   \n",
       "4     Radial Velocity       1      516.220000  10.50    119.47  2009   \n",
       "...               ...     ...             ...    ...       ...   ...   \n",
       "1029          Imaging       1             NaN    NaN     10.10  2012   \n",
       "1030          Transit       1        3.941507    NaN    172.00  2006   \n",
       "1031          Transit       1        2.615864    NaN    148.00  2007   \n",
       "1032          Transit       1        3.191524    NaN    174.00  2007   \n",
       "1033          Transit       1        4.125083    NaN    293.00  2008   \n",
       "\n",
       "      distance_in_km  \n",
       "0                  0  \n",
       "1                  1  \n",
       "2                  2  \n",
       "3                  3  \n",
       "4                  4  \n",
       "...              ...  \n",
       "1029            1029  \n",
       "1030            1030  \n",
       "1031            1031  \n",
       "1032            1032  \n",
       "1033            1033  \n",
       "\n",
       "[1034 rows x 7 columns]"
      ]
     },
     "execution_count": 23,
     "metadata": {},
     "output_type": "execute_result"
    }
   ],
   "source": [
    "planets_df = planets_df.drop(planets_df.tail(1).index)\n",
    "planets_df"
   ]
  },
  {
   "cell_type": "markdown",
   "id": "a04a9455",
   "metadata": {},
   "source": [
    "## Drop columns"
   ]
  },
  {
   "cell_type": "code",
   "execution_count": 24,
   "id": "6302033e",
   "metadata": {},
   "outputs": [
    {
     "data": {
      "text/html": [
       "<div>\n",
       "<style scoped>\n",
       "    .dataframe tbody tr th:only-of-type {\n",
       "        vertical-align: middle;\n",
       "    }\n",
       "\n",
       "    .dataframe tbody tr th {\n",
       "        vertical-align: top;\n",
       "    }\n",
       "\n",
       "    .dataframe thead th {\n",
       "        text-align: right;\n",
       "    }\n",
       "</style>\n",
       "<table border=\"1\" class=\"dataframe\">\n",
       "  <thead>\n",
       "    <tr style=\"text-align: right;\">\n",
       "      <th></th>\n",
       "      <th>method</th>\n",
       "      <th>number</th>\n",
       "      <th>orbital_period</th>\n",
       "      <th>mass</th>\n",
       "      <th>distance</th>\n",
       "      <th>year</th>\n",
       "    </tr>\n",
       "  </thead>\n",
       "  <tbody>\n",
       "    <tr>\n",
       "      <th>0</th>\n",
       "      <td>Radial Velocity</td>\n",
       "      <td>1</td>\n",
       "      <td>269.300000</td>\n",
       "      <td>7.10</td>\n",
       "      <td>77.40</td>\n",
       "      <td>2006</td>\n",
       "    </tr>\n",
       "    <tr>\n",
       "      <th>1</th>\n",
       "      <td>Radial Velocity</td>\n",
       "      <td>1</td>\n",
       "      <td>874.774000</td>\n",
       "      <td>2.21</td>\n",
       "      <td>56.95</td>\n",
       "      <td>2008</td>\n",
       "    </tr>\n",
       "    <tr>\n",
       "      <th>2</th>\n",
       "      <td>Radial Velocity</td>\n",
       "      <td>1</td>\n",
       "      <td>763.000000</td>\n",
       "      <td>2.60</td>\n",
       "      <td>19.84</td>\n",
       "      <td>2011</td>\n",
       "    </tr>\n",
       "    <tr>\n",
       "      <th>3</th>\n",
       "      <td>Radial Velocity</td>\n",
       "      <td>1</td>\n",
       "      <td>326.030000</td>\n",
       "      <td>19.40</td>\n",
       "      <td>110.62</td>\n",
       "      <td>2007</td>\n",
       "    </tr>\n",
       "    <tr>\n",
       "      <th>4</th>\n",
       "      <td>Radial Velocity</td>\n",
       "      <td>1</td>\n",
       "      <td>516.220000</td>\n",
       "      <td>10.50</td>\n",
       "      <td>119.47</td>\n",
       "      <td>2009</td>\n",
       "    </tr>\n",
       "    <tr>\n",
       "      <th>...</th>\n",
       "      <td>...</td>\n",
       "      <td>...</td>\n",
       "      <td>...</td>\n",
       "      <td>...</td>\n",
       "      <td>...</td>\n",
       "      <td>...</td>\n",
       "    </tr>\n",
       "    <tr>\n",
       "      <th>1029</th>\n",
       "      <td>Imaging</td>\n",
       "      <td>1</td>\n",
       "      <td>NaN</td>\n",
       "      <td>NaN</td>\n",
       "      <td>10.10</td>\n",
       "      <td>2012</td>\n",
       "    </tr>\n",
       "    <tr>\n",
       "      <th>1030</th>\n",
       "      <td>Transit</td>\n",
       "      <td>1</td>\n",
       "      <td>3.941507</td>\n",
       "      <td>NaN</td>\n",
       "      <td>172.00</td>\n",
       "      <td>2006</td>\n",
       "    </tr>\n",
       "    <tr>\n",
       "      <th>1031</th>\n",
       "      <td>Transit</td>\n",
       "      <td>1</td>\n",
       "      <td>2.615864</td>\n",
       "      <td>NaN</td>\n",
       "      <td>148.00</td>\n",
       "      <td>2007</td>\n",
       "    </tr>\n",
       "    <tr>\n",
       "      <th>1032</th>\n",
       "      <td>Transit</td>\n",
       "      <td>1</td>\n",
       "      <td>3.191524</td>\n",
       "      <td>NaN</td>\n",
       "      <td>174.00</td>\n",
       "      <td>2007</td>\n",
       "    </tr>\n",
       "    <tr>\n",
       "      <th>1033</th>\n",
       "      <td>Transit</td>\n",
       "      <td>1</td>\n",
       "      <td>4.125083</td>\n",
       "      <td>NaN</td>\n",
       "      <td>293.00</td>\n",
       "      <td>2008</td>\n",
       "    </tr>\n",
       "  </tbody>\n",
       "</table>\n",
       "<p>1034 rows × 6 columns</p>\n",
       "</div>"
      ],
      "text/plain": [
       "               method  number  orbital_period   mass  distance  year\n",
       "0     Radial Velocity       1      269.300000   7.10     77.40  2006\n",
       "1     Radial Velocity       1      874.774000   2.21     56.95  2008\n",
       "2     Radial Velocity       1      763.000000   2.60     19.84  2011\n",
       "3     Radial Velocity       1      326.030000  19.40    110.62  2007\n",
       "4     Radial Velocity       1      516.220000  10.50    119.47  2009\n",
       "...               ...     ...             ...    ...       ...   ...\n",
       "1029          Imaging       1             NaN    NaN     10.10  2012\n",
       "1030          Transit       1        3.941507    NaN    172.00  2006\n",
       "1031          Transit       1        2.615864    NaN    148.00  2007\n",
       "1032          Transit       1        3.191524    NaN    174.00  2007\n",
       "1033          Transit       1        4.125083    NaN    293.00  2008\n",
       "\n",
       "[1034 rows x 6 columns]"
      ]
     },
     "execution_count": 24,
     "metadata": {},
     "output_type": "execute_result"
    }
   ],
   "source": [
    "planets_df = planets_df.drop(\"distance_in_km\", axis=1)\n",
    "planets_df"
   ]
  },
  {
   "cell_type": "markdown",
   "id": "15bd8662",
   "metadata": {},
   "source": [
    "## Perform some NumPy operations like finding out mean , max and min operations"
   ]
  },
  {
   "cell_type": "code",
   "execution_count": 15,
   "id": "71d4fb5a",
   "metadata": {},
   "outputs": [
    {
     "name": "stdout",
     "output_type": "stream",
     "text": [
      "Mean distance: 264.06928217821786\n",
      "Maximum mass: 25.0\n",
      "Minimum orbital period: 0.09070629\n"
     ]
    }
   ],
   "source": [
    "# Mean\n",
    "mean_distance = np.mean(planets_df[\"distance\"])\n",
    "print(\"Mean distance:\", mean_distance)\n",
    "\n",
    "# Max\n",
    "max_mass = np.max(planets_df[\"mass\"])\n",
    "print(\"Maximum mass:\", max_mass)\n",
    "\n",
    "# Min\n",
    "min_orbital_period = np.min(planets_df[\"orbital_period\"])\n",
    "print(\"Minimum orbital period:\", min_orbital_period)"
   ]
  },
  {
   "cell_type": "markdown",
   "id": "43486c35",
   "metadata": {},
   "source": [
    "## Assessment 4"
   ]
  },
  {
   "cell_type": "markdown",
   "id": "20e73aca",
   "metadata": {},
   "source": [
    "## Loading the Dataset"
   ]
  },
  {
   "cell_type": "code",
   "execution_count": null,
   "id": "9ce77d06",
   "metadata": {},
   "outputs": [],
   "source": [
    "df=pd.read_csv('titanic_dataset.csv', delimiter=',')\n",
    "df.head()"
   ]
  },
  {
   "cell_type": "markdown",
   "id": "02edb9d5",
   "metadata": {},
   "source": [
    "## Clean the continuous Variables.\n",
    "##  Drop unnecessary variables.\n",
    "## Clean Categorical Variables by fill in Missing.\n",
    "## Storing the Cleaned Data."
   ]
  },
  {
   "cell_type": "code",
   "execution_count": null,
   "id": "af209995",
   "metadata": {},
   "outputs": [],
   "source": [
    "\n",
    "\n",
    "# Drop unnecessary variables\n",
    "df = df.drop(['Name', 'Ticket', 'Cabin'], axis=1)\n",
    "\n",
    "# Clean the continuous variables\n",
    "mean_age = df['Age'].mean()\n",
    "df['Age'].fillna(mean_age, inplace=True)\n",
    "\n",
    "mean_fare = df['Fare'].mean()\n",
    "df['Fare'].fillna(mean_fare, inplace=True)\n",
    "\n",
    "# Clean categorical variables by fill in missing\n",
    "\n",
    "sex_mode = df['Sex'].mode()[0]\n",
    "df['Sex'].fillna(sex_mode, inplace=True)\n",
    "\n",
    "mode_embarked = df['Embarked'].mode().iloc[0]\n",
    "df['Embarked'].fillna(mode_embarked, inplace=True)\n",
    "\n",
    "# Store the cleaned data\n",
    "df.to_csv('cleaned_titanic_dataset.csv', index=False)\n",
    "\n",
    "# Print the cleaned dataset\n",
    "print(df.head())\n",
    "\n"
   ]
  },
  {
   "cell_type": "code",
   "execution_count": null,
   "id": "57207edc",
   "metadata": {},
   "outputs": [],
   "source": []
  },
  {
   "cell_type": "code",
   "execution_count": null,
   "id": "4d22690d",
   "metadata": {},
   "outputs": [],
   "source": []
  }
 ],
 "metadata": {
  "kernelspec": {
   "display_name": "Python 3 (ipykernel)",
   "language": "python",
   "name": "python3"
  },
  "language_info": {
   "codemirror_mode": {
    "name": "ipython",
    "version": 3
   },
   "file_extension": ".py",
   "mimetype": "text/x-python",
   "name": "python",
   "nbconvert_exporter": "python",
   "pygments_lexer": "ipython3",
   "version": "3.9.12"
  }
 },
 "nbformat": 4,
 "nbformat_minor": 5
}
